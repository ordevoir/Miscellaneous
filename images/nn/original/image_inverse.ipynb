{
 "cells": [
  {
   "cell_type": "code",
   "execution_count": 1,
   "metadata": {},
   "outputs": [],
   "source": [
    "import os\n",
    "from PIL import Image\n",
    "import numpy as np\n",
    "\n",
    "def getFiles():\n",
    "    \"\"\"возвращает список с именами файлов текущей директории\"\"\"\n",
    "    files = os.listdir()\n",
    "    files = [f for f in files if not os.path.isdir(f)]\n",
    "    return files"
   ]
  },
  {
   "cell_type": "code",
   "execution_count": 2,
   "metadata": {},
   "outputs": [],
   "source": [
    "files = getFiles()      # собераем имена файлов\n",
    "# убираем имена файлов с расширением ipynb:\n",
    "files = [n for n in files if not n.endswith(\"ipynb\")]"
   ]
  },
  {
   "cell_type": "markdown",
   "metadata": {},
   "source": [
    "В папку edited будем складывать результат преобразования. Нужно его создать, если еще не существует."
   ]
  },
  {
   "cell_type": "code",
   "execution_count": null,
   "metadata": {},
   "outputs": [],
   "source": [
    "os.mkdir(\"edited\")"
   ]
  },
  {
   "cell_type": "code",
   "execution_count": 57,
   "metadata": {},
   "outputs": [],
   "source": [
    "for path in files:\n",
    "    image = Image.open(path)\n",
    "    im = np.array(image)\n",
    "    im[..., :3] = 255 - im[..., :3]     # инверсия (не трогая alpha)\n",
    "    im[im < 30] = 30                    # поднимаем уровень черного\n",
    "    Image.fromarray(im).save(\"edited/\" + path)"
   ]
  }
 ],
 "metadata": {
  "kernelspec": {
   "display_name": "Python 3 (ipykernel)",
   "language": "python",
   "name": "python3"
  },
  "language_info": {
   "codemirror_mode": {
    "name": "ipython",
    "version": 3
   },
   "file_extension": ".py",
   "mimetype": "text/x-python",
   "name": "python",
   "nbconvert_exporter": "python",
   "pygments_lexer": "ipython3",
   "version": "3.11.5"
  },
  "vscode": {
   "interpreter": {
    "hash": "d3862405bd6518403dfda22b0a4857286d6901160869641bae98f1388294c514"
   }
  }
 },
 "nbformat": 4,
 "nbformat_minor": 4
}
